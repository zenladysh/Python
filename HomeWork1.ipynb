{
 "cells": [
  {
   "cell_type": "code",
   "execution_count": 20,
   "metadata": {},
   "outputs": [
    {
     "name": "stdout",
     "output_type": "stream",
     "text": [
      "Введите количесто элементов последовательности Фибоначчи\n",
      "10\n",
      "Последовательность Фибоначчи:\n",
      " [0, 1, 1, 2, 3, 5, 8, 13, 21, 34]\n"
     ]
    }
   ],
   "source": [
    "print(\"Введите количесто элементов последовательности Фибоначчи\")\n",
    "countN = int(input())\n",
    "sequence = list(range(countN))\n",
    "for i in range(1,countN):\n",
    "    if i > 2:\n",
    "        sequence[i] = sequence[i - 1] + sequence[i - 2]\n",
    "    else:\n",
    "        sequence[i] = 1\n",
    "print(\"Последовательность Фибоначчи:\\n\", sequence)"
   ]
  }
 ],
 "metadata": {
  "kernelspec": {
   "display_name": "Python 3",
   "language": "python",
   "name": "python3"
  },
  "language_info": {
   "codemirror_mode": {
    "name": "ipython",
    "version": 3
   },
   "file_extension": ".py",
   "mimetype": "text/x-python",
   "name": "python",
   "nbconvert_exporter": "python",
   "pygments_lexer": "ipython3",
   "version": "3.7.4"
  }
 },
 "nbformat": 4,
 "nbformat_minor": 2
}
