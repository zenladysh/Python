{
 "cells": [
  {
   "cell_type": "code",
   "execution_count": 3,
   "metadata": {},
   "outputs": [],
   "source": [
    "def anagrams():\n",
    "    content = []\n",
    "    with open('zaliznyak.txt', 'r') as file:\n",
    "        for line in file:\n",
    "            content.append(line.strip())\n",
    "    \n",
    "                \n",
    "    res1 = [item for item in content]\n",
    "    res2 = [len(item) for item in content]    \n",
    "    res = dict(zip(res1,res2))\n",
    "    \n",
    "    spis = []\n",
    "    item = 1\n",
    "    \n",
    "    for item in range(max(res2)):\n",
    "        spis.append([])\n",
    "        \n",
    "        for key in res:\n",
    "            \n",
    "            if res[key] == item:\n",
    "                spis[item].append(key)\n",
    "             \n",
    "    with open('fileout.txt', 'a') as file:\n",
    "        finAn = []\n",
    "        \n",
    "        for index in range(4):\n",
    "            anagram = []\n",
    "            finAn.append([])\n",
    "            \n",
    "            for j in spis[index]:        \n",
    "                anagram.append([])\n",
    "                i = spis[index].index(j)\n",
    "                for i in range(len(spis[index])):   \n",
    "                    anagram.append([])\n",
    "                    \n",
    "                    if sorted(j) == sorted(spis[index][i]):\n",
    "                        anagram[i].append(j)\n",
    "                      \n",
    "                        if len(anagram[i]) >= 2 and anagram[i] not in finAn[index]:\n",
    "                            finAn[index].append(anagram[i])                    \n",
    "           \n",
    "            file.write(str(finAn[index]))\n",
    "            file.write('\\n')"
   ]
  },
  {
   "cell_type": "code",
   "execution_count": 4,
   "metadata": {},
   "outputs": [],
   "source": [
    "anagrams()"
   ]
  }
 ],
 "metadata": {
  "kernelspec": {
   "display_name": "Python 3",
   "language": "python",
   "name": "python3"
  },
  "language_info": {
   "codemirror_mode": {
    "name": "ipython",
    "version": 3
   },
   "file_extension": ".py",
   "mimetype": "text/x-python",
   "name": "python",
   "nbconvert_exporter": "python",
   "pygments_lexer": "ipython3",
   "version": "3.7.4"
  }
 },
 "nbformat": 4,
 "nbformat_minor": 2
}
